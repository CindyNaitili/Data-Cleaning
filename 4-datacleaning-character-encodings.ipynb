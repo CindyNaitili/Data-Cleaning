{
 "cells": [
  {
   "cell_type": "markdown",
   "id": "be874d77",
   "metadata": {
    "papermill": {
     "duration": 0.004874,
     "end_time": "2025-04-04T14:33:34.238337",
     "exception": false,
     "start_time": "2025-04-04T14:33:34.233463",
     "status": "completed"
    },
    "tags": []
   },
   "source": [
    "**This notebook is an exercise in the [Data Cleaning](https://www.kaggle.com/learn/data-cleaning) course.  You can reference the tutorial at [this link](https://www.kaggle.com/alexisbcook/character-encodings).**\n",
    "\n",
    "---\n"
   ]
  },
  {
   "cell_type": "markdown",
   "id": "3aa99d82",
   "metadata": {
    "papermill": {
     "duration": 0.003743,
     "end_time": "2025-04-04T14:33:34.246598",
     "exception": false,
     "start_time": "2025-04-04T14:33:34.242855",
     "status": "completed"
    },
    "tags": []
   },
   "source": [
    "In this exercise, you'll apply what you learned in the **Character encodings** tutorial.\n",
    "\n",
    "# Setup\n",
    "\n",
    "The questions below will give you feedback on your work. Run the following cell to set up the feedback system."
   ]
  },
  {
   "cell_type": "code",
   "execution_count": 1,
   "id": "d8eb92b9",
   "metadata": {
    "execution": {
     "iopub.execute_input": "2025-04-04T14:33:34.256454Z",
     "iopub.status.busy": "2025-04-04T14:33:34.255972Z",
     "iopub.status.idle": "2025-04-04T14:33:35.283306Z",
     "shell.execute_reply": "2025-04-04T14:33:35.282183Z"
    },
    "papermill": {
     "duration": 1.034309,
     "end_time": "2025-04-04T14:33:35.285174",
     "exception": false,
     "start_time": "2025-04-04T14:33:34.250865",
     "status": "completed"
    },
    "tags": []
   },
   "outputs": [
    {
     "name": "stdout",
     "output_type": "stream",
     "text": [
      "Setup Complete\n"
     ]
    }
   ],
   "source": [
    "from learntools.core import binder\n",
    "binder.bind(globals())\n",
    "from learntools.data_cleaning.ex4 import *\n",
    "print(\"Setup Complete\")"
   ]
  },
  {
   "cell_type": "markdown",
   "id": "f52cf078",
   "metadata": {
    "papermill": {
     "duration": 0.004336,
     "end_time": "2025-04-04T14:33:35.293906",
     "exception": false,
     "start_time": "2025-04-04T14:33:35.289570",
     "status": "completed"
    },
    "tags": []
   },
   "source": [
    "# Get our environment set up\n",
    "\n",
    "The first thing we'll need to do is load in the libraries we'll be using."
   ]
  },
  {
   "cell_type": "code",
   "execution_count": 2,
   "id": "cbe67783",
   "metadata": {
    "execution": {
     "iopub.execute_input": "2025-04-04T14:33:35.303374Z",
     "iopub.status.busy": "2025-04-04T14:33:35.303043Z",
     "iopub.status.idle": "2025-04-04T14:33:35.307805Z",
     "shell.execute_reply": "2025-04-04T14:33:35.306778Z"
    },
    "papermill": {
     "duration": 0.011394,
     "end_time": "2025-04-04T14:33:35.309440",
     "exception": false,
     "start_time": "2025-04-04T14:33:35.298046",
     "status": "completed"
    },
    "tags": []
   },
   "outputs": [],
   "source": [
    "# modules we'll use\n",
    "import pandas as pd\n",
    "import numpy as np\n",
    "\n",
    "# helpful character encoding module\n",
    "import charset_normalizer\n",
    "\n",
    "# set seed for reproducibility\n",
    "np.random.seed(0)"
   ]
  },
  {
   "cell_type": "markdown",
   "id": "e0b7a9dc",
   "metadata": {
    "papermill": {
     "duration": 0.003897,
     "end_time": "2025-04-04T14:33:35.317673",
     "exception": false,
     "start_time": "2025-04-04T14:33:35.313776",
     "status": "completed"
    },
    "tags": []
   },
   "source": [
    "# 1) What are encodings?\n",
    "\n",
    "You're working with a dataset composed of bytes.  Run the code cell below to print a sample entry."
   ]
  },
  {
   "cell_type": "code",
   "execution_count": 3,
   "id": "fbf36c39",
   "metadata": {
    "execution": {
     "iopub.execute_input": "2025-04-04T14:33:35.327069Z",
     "iopub.status.busy": "2025-04-04T14:33:35.326689Z",
     "iopub.status.idle": "2025-04-04T14:33:35.332480Z",
     "shell.execute_reply": "2025-04-04T14:33:35.331100Z"
    },
    "papermill": {
     "duration": 0.012489,
     "end_time": "2025-04-04T14:33:35.334199",
     "exception": false,
     "start_time": "2025-04-04T14:33:35.321710",
     "status": "completed"
    },
    "tags": []
   },
   "outputs": [
    {
     "name": "stdout",
     "output_type": "stream",
     "text": [
      "b'\\xa7A\\xa6n'\n",
      "data type: <class 'bytes'>\n"
     ]
    }
   ],
   "source": [
    "sample_entry = b'\\xa7A\\xa6n'\n",
    "print(sample_entry)\n",
    "print('data type:', type(sample_entry))"
   ]
  },
  {
   "cell_type": "markdown",
   "id": "a4da6cc9",
   "metadata": {
    "papermill": {
     "duration": 0.003918,
     "end_time": "2025-04-04T14:33:35.342475",
     "exception": false,
     "start_time": "2025-04-04T14:33:35.338557",
     "status": "completed"
    },
    "tags": []
   },
   "source": [
    "You notice that it doesn't use the standard UTF-8 encoding. \n",
    "\n",
    "Use the next code cell to create a variable `new_entry` that changes the encoding from `\"big5-tw\"` to `\"utf-8\"`.  `new_entry` should have the bytes datatype."
   ]
  },
  {
   "cell_type": "markdown",
   "id": "69d3059d",
   "metadata": {
    "papermill": {
     "duration": 0.003773,
     "end_time": "2025-04-04T14:33:35.350321",
     "exception": false,
     "start_time": "2025-04-04T14:33:35.346548",
     "status": "completed"
    },
    "tags": []
   },
   "source": []
  },
  {
   "cell_type": "code",
   "execution_count": 4,
   "id": "5dfbbfe6",
   "metadata": {
    "execution": {
     "iopub.execute_input": "2025-04-04T14:33:35.359841Z",
     "iopub.status.busy": "2025-04-04T14:33:35.359460Z",
     "iopub.status.idle": "2025-04-04T14:33:35.367780Z",
     "shell.execute_reply": "2025-04-04T14:33:35.366505Z"
    },
    "papermill": {
     "duration": 0.015111,
     "end_time": "2025-04-04T14:33:35.369574",
     "exception": false,
     "start_time": "2025-04-04T14:33:35.354463",
     "status": "completed"
    },
    "tags": []
   },
   "outputs": [
    {
     "data": {
      "application/javascript": [
       "parent.postMessage({\"jupyterEvent\": \"custom.exercise_interaction\", \"data\": {\"outcomeType\": 1, \"valueTowardsCompletion\": 0.3333333333333333, \"interactionType\": 1, \"questionType\": 1, \"questionId\": \"1_EncodingsIntro\", \"learnToolsVersion\": \"0.3.4\", \"failureMessage\": \"\", \"exceptionClass\": \"\", \"trace\": \"\"}}, \"*\")"
      ],
      "text/plain": [
       "<IPython.core.display.Javascript object>"
      ]
     },
     "metadata": {},
     "output_type": "display_data"
    },
    {
     "data": {
      "text/markdown": [
       "<span style=\"color:#33cc33\">Correct</span>"
      ],
      "text/plain": [
       "Correct"
      ]
     },
     "metadata": {},
     "output_type": "display_data"
    }
   ],
   "source": [
    "before = sample_entry.decode(\"big5-tw\")\n",
    "new_entry = before.encode()\n",
    "\n",
    "# Check your answer\n",
    "q1.check()"
   ]
  },
  {
   "cell_type": "code",
   "execution_count": 5,
   "id": "2e7da60e",
   "metadata": {
    "execution": {
     "iopub.execute_input": "2025-04-04T14:33:35.379671Z",
     "iopub.status.busy": "2025-04-04T14:33:35.379335Z",
     "iopub.status.idle": "2025-04-04T14:33:35.386484Z",
     "shell.execute_reply": "2025-04-04T14:33:35.385248Z"
    },
    "papermill": {
     "duration": 0.013963,
     "end_time": "2025-04-04T14:33:35.388060",
     "exception": false,
     "start_time": "2025-04-04T14:33:35.374097",
     "status": "completed"
    },
    "tags": []
   },
   "outputs": [
    {
     "data": {
      "application/javascript": [
       "parent.postMessage({\"jupyterEvent\": \"custom.exercise_interaction\", \"data\": {\"interactionType\": 3, \"questionType\": 1, \"questionId\": \"1_EncodingsIntro\", \"learnToolsVersion\": \"0.3.4\", \"valueTowardsCompletion\": 0.0, \"failureMessage\": \"\", \"exceptionClass\": \"\", \"trace\": \"\", \"outcomeType\": 4}}, \"*\")"
      ],
      "text/plain": [
       "<IPython.core.display.Javascript object>"
      ]
     },
     "metadata": {},
     "output_type": "display_data"
    },
    {
     "data": {
      "text/markdown": [
       "<span style=\"color:#33cc99\">Solution:</span> \n",
       "```python\n",
       "before = sample_entry.decode(\"big5-tw\")\n",
       "new_entry = before.encode()\n",
       "\n",
       "```"
      ],
      "text/plain": [
       "Solution: \n",
       "```python\n",
       "before = sample_entry.decode(\"big5-tw\")\n",
       "new_entry = before.encode()\n",
       "\n",
       "```"
      ]
     },
     "metadata": {},
     "output_type": "display_data"
    }
   ],
   "source": [
    "# Lines below will give you a hint or solution code\n",
    "#q1.hint()\n",
    "q1.solution()"
   ]
  },
  {
   "cell_type": "markdown",
   "id": "4682df41",
   "metadata": {
    "papermill": {
     "duration": 0.004426,
     "end_time": "2025-04-04T14:33:35.397518",
     "exception": false,
     "start_time": "2025-04-04T14:33:35.393092",
     "status": "completed"
    },
    "tags": []
   },
   "source": [
    "# 2) Reading in files with encoding problems\n",
    "\n",
    "Use the code cell below to read in this file at path `\"../input/fatal-police-shootings-in-the-us/PoliceKillingsUS.csv\"`.  \n",
    "\n",
    "Figure out what the correct encoding should be and read in the file to a DataFrame `police_killings`."
   ]
  },
  {
   "cell_type": "code",
   "execution_count": 6,
   "id": "fab9e651",
   "metadata": {
    "execution": {
     "iopub.execute_input": "2025-04-04T14:33:35.408366Z",
     "iopub.status.busy": "2025-04-04T14:33:35.407990Z",
     "iopub.status.idle": "2025-04-04T14:33:35.432671Z",
     "shell.execute_reply": "2025-04-04T14:33:35.431560Z"
    },
    "papermill": {
     "duration": 0.032123,
     "end_time": "2025-04-04T14:33:35.434434",
     "exception": false,
     "start_time": "2025-04-04T14:33:35.402311",
     "status": "completed"
    },
    "tags": []
   },
   "outputs": [
    {
     "data": {
      "application/javascript": [
       "parent.postMessage({\"jupyterEvent\": \"custom.exercise_interaction\", \"data\": {\"outcomeType\": 1, \"valueTowardsCompletion\": 0.3333333333333333, \"interactionType\": 1, \"questionType\": 1, \"questionId\": \"2_ReadIn\", \"learnToolsVersion\": \"0.3.4\", \"failureMessage\": \"\", \"exceptionClass\": \"\", \"trace\": \"\"}}, \"*\")"
      ],
      "text/plain": [
       "<IPython.core.display.Javascript object>"
      ]
     },
     "metadata": {},
     "output_type": "display_data"
    },
    {
     "data": {
      "text/markdown": [
       "<span style=\"color:#33cc33\">Correct</span>"
      ],
      "text/plain": [
       "Correct"
      ]
     },
     "metadata": {},
     "output_type": "display_data"
    }
   ],
   "source": [
    "# TODO: Load in the DataFrame correctly.\n",
    "police_killings = pd.read_csv(\"../input/fatal-police-shootings-in-the-us/PoliceKillingsUS.csv\", encoding='Windows-1252')\n",
    "\n",
    "# Check your answer\n",
    "q2.check()"
   ]
  },
  {
   "cell_type": "markdown",
   "id": "c85b1626",
   "metadata": {
    "papermill": {
     "duration": 0.004647,
     "end_time": "2025-04-04T14:33:35.444085",
     "exception": false,
     "start_time": "2025-04-04T14:33:35.439438",
     "status": "completed"
    },
    "tags": []
   },
   "source": [
    "Feel free to use any additional code cells for supplemental work.  To get credit for finishing this question, you'll need to run `q2.check()` and get a result of **Correct**."
   ]
  },
  {
   "cell_type": "code",
   "execution_count": 7,
   "id": "28027442",
   "metadata": {
    "execution": {
     "iopub.execute_input": "2025-04-04T14:33:35.455103Z",
     "iopub.status.busy": "2025-04-04T14:33:35.454634Z",
     "iopub.status.idle": "2025-04-04T14:33:35.458658Z",
     "shell.execute_reply": "2025-04-04T14:33:35.457564Z"
    },
    "papermill": {
     "duration": 0.011534,
     "end_time": "2025-04-04T14:33:35.460441",
     "exception": false,
     "start_time": "2025-04-04T14:33:35.448907",
     "status": "completed"
    },
    "tags": []
   },
   "outputs": [],
   "source": [
    "# (Optional) Use this code cell for any additional work."
   ]
  },
  {
   "cell_type": "code",
   "execution_count": 8,
   "id": "229ec510",
   "metadata": {
    "execution": {
     "iopub.execute_input": "2025-04-04T14:33:35.471553Z",
     "iopub.status.busy": "2025-04-04T14:33:35.471222Z",
     "iopub.status.idle": "2025-04-04T14:33:35.478130Z",
     "shell.execute_reply": "2025-04-04T14:33:35.477175Z"
    },
    "papermill": {
     "duration": 0.014527,
     "end_time": "2025-04-04T14:33:35.479975",
     "exception": false,
     "start_time": "2025-04-04T14:33:35.465448",
     "status": "completed"
    },
    "tags": []
   },
   "outputs": [
    {
     "data": {
      "application/javascript": [
       "parent.postMessage({\"jupyterEvent\": \"custom.exercise_interaction\", \"data\": {\"interactionType\": 3, \"questionType\": 1, \"questionId\": \"2_ReadIn\", \"learnToolsVersion\": \"0.3.4\", \"valueTowardsCompletion\": 0.0, \"failureMessage\": \"\", \"exceptionClass\": \"\", \"trace\": \"\", \"outcomeType\": 4}}, \"*\")"
      ],
      "text/plain": [
       "<IPython.core.display.Javascript object>"
      ]
     },
     "metadata": {},
     "output_type": "display_data"
    },
    {
     "data": {
      "text/markdown": [
       "<span style=\"color:#33cc99\">Solution:</span> \n",
       "```python\n",
       "police_killings = pd.read_csv(\"../input/fatal-police-shootings-in-the-us/PoliceKillingsUS.csv\", encoding='Windows-1252')\n",
       "\n",
       "```"
      ],
      "text/plain": [
       "Solution: \n",
       "```python\n",
       "police_killings = pd.read_csv(\"../input/fatal-police-shootings-in-the-us/PoliceKillingsUS.csv\", encoding='Windows-1252')\n",
       "\n",
       "```"
      ]
     },
     "metadata": {},
     "output_type": "display_data"
    }
   ],
   "source": [
    "# Lines below will give you a hint or solution code\n",
    "#q2.hint()\n",
    "q2.solution()"
   ]
  },
  {
   "cell_type": "markdown",
   "id": "43d0986f",
   "metadata": {
    "papermill": {
     "duration": 0.00478,
     "end_time": "2025-04-04T14:33:35.490154",
     "exception": false,
     "start_time": "2025-04-04T14:33:35.485374",
     "status": "completed"
    },
    "tags": []
   },
   "source": [
    "# 3) Saving your files with UTF-8 encoding\n",
    "\n",
    "Save a version of the police killings dataset to CSV with UTF-8 encoding.  Your answer will be marked correct after saving this file.  \n",
    "\n",
    "Note: When using the `to_csv()` method, supply only the name of the file (e.g., `\"my_file.csv\"`).  This saves the file at the filepath `\"/kaggle/working/my_file.csv\"`."
   ]
  },
  {
   "cell_type": "code",
   "execution_count": 9,
   "id": "3f499118",
   "metadata": {
    "execution": {
     "iopub.execute_input": "2025-04-04T14:33:35.501926Z",
     "iopub.status.busy": "2025-04-04T14:33:35.501507Z",
     "iopub.status.idle": "2025-04-04T14:33:35.541343Z",
     "shell.execute_reply": "2025-04-04T14:33:35.540201Z"
    },
    "papermill": {
     "duration": 0.047668,
     "end_time": "2025-04-04T14:33:35.543218",
     "exception": false,
     "start_time": "2025-04-04T14:33:35.495550",
     "status": "completed"
    },
    "tags": []
   },
   "outputs": [
    {
     "data": {
      "application/javascript": [
       "parent.postMessage({\"jupyterEvent\": \"custom.exercise_interaction\", \"data\": {\"outcomeType\": 1, \"valueTowardsCompletion\": 0.3333333333333333, \"interactionType\": 1, \"questionType\": 2, \"questionId\": \"3_SaveCSV\", \"learnToolsVersion\": \"0.3.4\", \"failureMessage\": \"\", \"exceptionClass\": \"\", \"trace\": \"\"}}, \"*\")"
      ],
      "text/plain": [
       "<IPython.core.display.Javascript object>"
      ]
     },
     "metadata": {},
     "output_type": "display_data"
    },
    {
     "data": {
      "text/markdown": [
       "<span style=\"color:#33cc33\">Correct</span>"
      ],
      "text/plain": [
       "Correct"
      ]
     },
     "metadata": {},
     "output_type": "display_data"
    }
   ],
   "source": [
    "# TODO: Save the police killings dataset to CSV\n",
    "police_killings.to_csv(\"/kaggle/working/my_file.csv\")\n",
    "\n",
    "# Check your answer\n",
    "q3.check()"
   ]
  },
  {
   "cell_type": "code",
   "execution_count": 10,
   "id": "0dc14c82",
   "metadata": {
    "execution": {
     "iopub.execute_input": "2025-04-04T14:33:35.555587Z",
     "iopub.status.busy": "2025-04-04T14:33:35.555269Z",
     "iopub.status.idle": "2025-04-04T14:33:35.558939Z",
     "shell.execute_reply": "2025-04-04T14:33:35.557932Z"
    },
    "papermill": {
     "duration": 0.01182,
     "end_time": "2025-04-04T14:33:35.560592",
     "exception": false,
     "start_time": "2025-04-04T14:33:35.548772",
     "status": "completed"
    },
    "tags": []
   },
   "outputs": [],
   "source": [
    "# Lines below will give you a hint or solution code\n",
    "#q3.hint()\n",
    "#q3.solution()"
   ]
  },
  {
   "cell_type": "markdown",
   "id": "d94ec849",
   "metadata": {
    "papermill": {
     "duration": 0.005026,
     "end_time": "2025-04-04T14:33:35.571163",
     "exception": false,
     "start_time": "2025-04-04T14:33:35.566137",
     "status": "completed"
    },
    "tags": []
   },
   "source": [
    "# (Optional) More practice\n",
    "\n",
    "Check out [this dataset of files in different character encodings](https://www.kaggle.com/rtatman/character-encoding-examples). Can you read in all the files with their original encodings and them save them out as UTF-8 files?\n",
    "\n",
    "If you have a file that's in UTF-8 but has just a couple of weird-looking characters in it, you can try out the [ftfy module](https://ftfy.readthedocs.io/en/latest/#) and see if it helps. \n",
    "\n",
    "# Keep going\n",
    "\n",
    "In the final lesson, learn how to [**clean up inconsistent text entries**](https://www.kaggle.com/alexisbcook/inconsistent-data-entry) in your dataset."
   ]
  },
  {
   "cell_type": "markdown",
   "id": "58348ba6",
   "metadata": {
    "papermill": {
     "duration": 0.005057,
     "end_time": "2025-04-04T14:33:35.581417",
     "exception": false,
     "start_time": "2025-04-04T14:33:35.576360",
     "status": "completed"
    },
    "tags": []
   },
   "source": [
    "---\n",
    "\n",
    "\n",
    "\n",
    "\n",
    "*Have questions or comments? Visit the [course discussion forum](https://www.kaggle.com/learn/data-cleaning/discussion) to chat with other learners.*"
   ]
  }
 ],
 "metadata": {
  "kaggle": {
   "accelerator": "none",
   "dataSources": [
    {
     "datasetId": 2647,
     "sourceId": 4395,
     "sourceType": "datasetVersion"
    }
   ],
   "isGpuEnabled": false,
   "isInternetEnabled": false,
   "language": "python",
   "sourceType": "notebook"
  },
  "kernelspec": {
   "display_name": "Python 3",
   "language": "python",
   "name": "python3"
  },
  "language_info": {
   "codemirror_mode": {
    "name": "ipython",
    "version": 3
   },
   "file_extension": ".py",
   "mimetype": "text/x-python",
   "name": "python",
   "nbconvert_exporter": "python",
   "pygments_lexer": "ipython3",
   "version": "3.10.12"
  },
  "papermill": {
   "default_parameters": {},
   "duration": 4.773496,
   "end_time": "2025-04-04T14:33:36.206933",
   "environment_variables": {},
   "exception": null,
   "input_path": "__notebook__.ipynb",
   "output_path": "__notebook__.ipynb",
   "parameters": {},
   "start_time": "2025-04-04T14:33:31.433437",
   "version": "2.6.0"
  }
 },
 "nbformat": 4,
 "nbformat_minor": 5
}
